{
 "cells": [
  {
   "cell_type": "markdown",
   "source": [
    "# NLP Homework #2 (Aleksandr Kariakin, Nikita Ivlev, Lev Leontev)"
   ],
   "metadata": {
    "collapsed": false
   },
   "id": "926fbf4245691c03"
  },
  {
   "cell_type": "markdown",
   "source": [
    "### Generate new sentences using Markovify and Shakespeare plays dataset"
   ],
   "metadata": {
    "collapsed": false
   },
   "id": "e48cc95af9145378"
  },
  {
   "cell_type": "markdown",
   "source": [
    "**Import the needed libraries**"
   ],
   "metadata": {
    "collapsed": false
   },
   "id": "dc0ed1d061cdf0f6"
  },
  {
   "cell_type": "code",
   "execution_count": 83,
   "outputs": [
    {
     "name": "stdout",
     "output_type": "stream",
     "text": [
      "Requirement already satisfied: markovify in c:\\users\\lievl\\appdata\\local\\programs\\python\\python311\\lib\\site-packages (0.9.4)\n",
      "Requirement already satisfied: unidecode in c:\\users\\lievl\\appdata\\local\\programs\\python\\python311\\lib\\site-packages (from markovify) (1.3.7)\n",
      "Requirement already satisfied: numpy in c:\\users\\lievl\\appdata\\local\\programs\\python\\python311\\lib\\site-packages (1.26.0)\n"
     ]
    }
   ],
   "source": [
    "!pip3 install markovify\n",
    "!pip3 install numpy"
   ],
   "metadata": {
    "collapsed": false,
    "ExecuteTime": {
     "end_time": "2023-10-15T21:14:07.257592Z",
     "start_time": "2023-10-15T21:14:00.541225700Z"
    }
   },
   "id": "772bce8db8909c2c"
  },
  {
   "cell_type": "code",
   "execution_count": 84,
   "outputs": [],
   "source": [
    "import markovify\n",
    "import numpy as np"
   ],
   "metadata": {
    "collapsed": false,
    "ExecuteTime": {
     "end_time": "2023-10-15T21:14:07.265258600Z",
     "start_time": "2023-10-15T21:14:07.257592Z"
    }
   },
   "id": "initial_id"
  },
  {
   "cell_type": "markdown",
   "source": [
    "Read the dataset of all Shakespeare plays"
   ],
   "metadata": {
    "collapsed": false
   },
   "id": "3db55b521424e81a"
  },
  {
   "cell_type": "code",
   "execution_count": 85,
   "outputs": [],
   "source": [
    "with open(\"shakespeare.txt\") as f:\n",
    "    text = f.read()"
   ],
   "metadata": {
    "collapsed": false,
    "ExecuteTime": {
     "end_time": "2023-10-15T21:14:07.309808500Z",
     "start_time": "2023-10-15T21:14:07.267258200Z"
    }
   },
   "id": "622679c25fc566b"
  },
  {
   "cell_type": "markdown",
   "source": [
    "Create a function to build the Markov chain model and generate a text with a parameter defining on how many previous words our Markov chain depends "
   ],
   "metadata": {
    "collapsed": false
   },
   "id": "a6a40eb65b9a6e6"
  },
  {
   "cell_type": "code",
   "execution_count": 86,
   "outputs": [],
   "source": [
    "def generate_sentences(state_size):\n",
    "    text_model = markovify.Text(text, state_size=state_size)\n",
    "    return [text_model.make_sentence(tries=100000) for _ in range(100)]"
   ],
   "metadata": {
    "collapsed": false,
    "ExecuteTime": {
     "end_time": "2023-10-15T21:14:07.322390200Z",
     "start_time": "2023-10-15T21:14:07.308811200Z"
    }
   },
   "id": "3abc046983e6877e"
  },
  {
   "cell_type": "markdown",
   "source": [
    "Print five randomly-generated sentences with a Markov chain that depends on 1 words:"
   ],
   "metadata": {
    "collapsed": false
   },
   "id": "c097069e0e025251"
  },
  {
   "cell_type": "code",
   "execution_count": 87,
   "outputs": [
    {
     "name": "stdout",
     "output_type": "stream",
     "text": [
      "I perceived a jig, you heard too much, methinks, is my face, But bear-like I am forbid; Or else, To speak in these are, with the thing of enemies.\n",
      "Prince, and loathsome beggar.\n",
      "I let out of his eyes best to Henry Guildford, This is the little wench, as thou cross it, his wife's a dish that the speediest bring away as much are greater than false of that do as haste and having such interchange of this gear.\n",
      "As when one must not need; we'll tell truth; Nor is my lord; a casement and so superfluous breath?\n",
      "Therefore these boys of fortune's malice, For I am: More mild, Than hate thee; in their mothers, maids, full of law, Whereof by a piece of fixed star hath here lies murdered.\n"
     ]
    }
   ],
   "source": [
    "sentences_1 = generate_sentences(state_size=1)\n",
    "print(*sentences_1[:5], sep=\"\\n\")"
   ],
   "metadata": {
    "collapsed": false,
    "ExecuteTime": {
     "end_time": "2023-10-15T21:14:12.238066100Z",
     "start_time": "2023-10-15T21:14:07.319391200Z"
    }
   },
   "id": "6bd1cd2ce82df3dd"
  },
  {
   "cell_type": "markdown",
   "source": [
    "Print five randomly-generated sentences with a Markov chain that depends on 2 words:"
   ],
   "metadata": {
    "collapsed": false
   },
   "id": "b806895152338b43"
  },
  {
   "cell_type": "code",
   "execution_count": 88,
   "outputs": [
    {
     "name": "stdout",
     "output_type": "stream",
     "text": [
      "Hence, Mardian, And bring me word to-morrow, By one whom she did make no noise- in such manner that it pleases you to live is torment, and then on Romeo cries, And then to horse again; Go, go, up to the rebels, and by my sword.\n",
      "I would not force in eyes That I, forsooth, in love; yea, he loveth.\n",
      "Brother, you have good witness of my queen!\n",
      "As rich shall Romeo's by his worth, They say, she hath not such a violence, the King- Mine and your eyes may pierce I cannot find her.\n",
      "And away with her sorrow, mesh'd upon her faith!\n"
     ]
    }
   ],
   "source": [
    "sentences_2 = generate_sentences(state_size=2)\n",
    "print(*sentences_2[:5], sep=\"\\n\")"
   ],
   "metadata": {
    "collapsed": false,
    "ExecuteTime": {
     "end_time": "2023-10-15T21:14:15.184302800Z",
     "start_time": "2023-10-15T21:14:12.222681400Z"
    }
   },
   "id": "1f208df27ade3d34"
  },
  {
   "cell_type": "markdown",
   "source": [
    "## Evaluating the quality"
   ],
   "metadata": {
    "collapsed": false
   },
   "id": "618213d3ad2bffaa"
  },
  {
   "cell_type": "markdown",
   "source": [
    "To evaluate the quality of the model, we can use A/B testing with English native speakers. We should give each study participant a pair of sentences by our model and from our dataset, without telling them which one is which, and suggest choosing the one that they think is AI-generated.\n",
    "\n",
    "In order to evaluate the quality automatically, we could use several approaches."
   ],
   "metadata": {
    "collapsed": false
   },
   "id": "7a43bfe1f9e8c97c"
  },
  {
   "cell_type": "markdown",
   "source": [
    "### Spelling and grammar checkers"
   ],
   "metadata": {
    "collapsed": false
   },
   "id": "84c2af3a1490a5e4"
  },
  {
   "cell_type": "markdown",
   "source": [
    "Import and initialize LanguageTool (a free and open source library for checking texts):"
   ],
   "metadata": {
    "collapsed": false
   },
   "id": "d483f119433cee8e"
  },
  {
   "cell_type": "code",
   "execution_count": 89,
   "outputs": [
    {
     "name": "stdout",
     "output_type": "stream",
     "text": [
      "Requirement already satisfied: language-tool-python in c:\\users\\lievl\\appdata\\local\\programs\\python\\python311\\lib\\site-packages (2.7.1)\n",
      "Requirement already satisfied: requests in c:\\users\\lievl\\appdata\\local\\programs\\python\\python311\\lib\\site-packages (from language-tool-python) (2.31.0)\n",
      "Requirement already satisfied: tqdm in c:\\users\\lievl\\appdata\\local\\programs\\python\\python311\\lib\\site-packages (from language-tool-python) (4.66.1)\n",
      "Requirement already satisfied: charset-normalizer<4,>=2 in c:\\users\\lievl\\appdata\\local\\programs\\python\\python311\\lib\\site-packages (from requests->language-tool-python) (3.3.0)\n",
      "Requirement already satisfied: idna<4,>=2.5 in c:\\users\\lievl\\appdata\\local\\programs\\python\\python311\\lib\\site-packages (from requests->language-tool-python) (3.4)\n",
      "Requirement already satisfied: urllib3<3,>=1.21.1 in c:\\users\\lievl\\appdata\\local\\programs\\python\\python311\\lib\\site-packages (from requests->language-tool-python) (2.0.6)\n",
      "Requirement already satisfied: certifi>=2017.4.17 in c:\\users\\lievl\\appdata\\local\\programs\\python\\python311\\lib\\site-packages (from requests->language-tool-python) (2023.7.22)\n",
      "Requirement already satisfied: colorama in c:\\users\\lievl\\appdata\\local\\programs\\python\\python311\\lib\\site-packages (from tqdm->language-tool-python) (0.4.6)\n"
     ]
    }
   ],
   "source": [
    "!pip3 install language-tool-python"
   ],
   "metadata": {
    "collapsed": false,
    "ExecuteTime": {
     "end_time": "2023-10-15T21:14:17.349843300Z",
     "start_time": "2023-10-15T21:14:15.177296200Z"
    }
   },
   "id": "ef478567dd54148d"
  },
  {
   "cell_type": "code",
   "execution_count": 90,
   "outputs": [],
   "source": [
    "import language_tool_python\n",
    "tool = language_tool_python.LanguageTool('en-GB')  # use a local server (automatically set up), language English"
   ],
   "metadata": {
    "collapsed": false,
    "ExecuteTime": {
     "end_time": "2023-10-15T21:14:20.562119900Z",
     "start_time": "2023-10-15T21:14:17.343839700Z"
    }
   },
   "id": "4046775dd2281a99"
  },
  {
   "cell_type": "markdown",
   "source": [
    "Test checking sentences with LanguageTool"
   ],
   "metadata": {
    "collapsed": false
   },
   "id": "1bc7593a2d808ad4"
  },
  {
   "cell_type": "code",
   "execution_count": 91,
   "outputs": [
    {
     "name": "stdout",
     "output_type": "stream",
     "text": [
      "[Match({'ruleId': 'MORFOLOGIK_RULE_EN_GB', 'message': 'Possible spelling mistake found.', 'replacements': ['Marian', 'Martian', 'Marxian', 'Mardi an'], 'offsetInContext': 7, 'context': 'Hence, Mardian, And bring me word to-morrow, By one wh...', 'offset': 7, 'errorLength': 7, 'category': 'TYPOS', 'ruleIssueType': 'misspelling', 'sentence': 'Hence, Mardian, And bring me word to-morrow, By one whom she did make no noise- in such manner that it pleases you to live is torment, and then on Romeo cries, And then to horse again; Go, go, up to the rebels, and by my sword.'}), Match({'ruleId': 'EN_SPLIT_WORDS_HYPHEN', 'message': 'This word seems to be formatted incorrectly. Consider fixing the spacing or removing the hyphen completely.', 'replacements': ['noise-in', 'noise - in'], 'offsetInContext': 43, 'context': '... to-morrow, By one whom she did make no noise- in such manner that it pleases you to live...', 'offset': 73, 'errorLength': 9, 'category': 'TYPOS', 'ruleIssueType': 'misspelling', 'sentence': 'Hence, Mardian, And bring me word to-morrow, By one whom she did make no noise- in such manner that it pleases you to live is torment, and then on Romeo cries, And then to horse again; Go, go, up to the rebels, and by my sword.'})]\n",
      "[Match({'ruleId': 'MORFOLOGIK_RULE_EN_GB', 'message': 'Possible spelling mistake found.', 'replacements': ['Lovett'], 'offsetInContext': 43, 'context': '...eyes That I, forsooth, in love; yea, he loveth.', 'offset': 61, 'errorLength': 6, 'category': 'TYPOS', 'ruleIssueType': 'misspelling', 'sentence': 'I would not force in eyes That I, forsooth, in love; yea, he loveth.'})]\n",
      "[]\n",
      "[Match({'ruleId': 'EN_SPLIT_WORDS_HYPHEN', 'message': 'This word seems to be formatted incorrectly. Consider fixing the spacing or removing the hyphen completely.', 'replacements': ['King-Mine', 'King - Mine'], 'offsetInContext': 43, 'context': '... say, she hath not such a violence, the King- Mine and your eyes may pierce I cannot find ...', 'offset': 80, 'errorLength': 10, 'category': 'TYPOS', 'ruleIssueType': 'misspelling', 'sentence': \"As rich shall Romeo's by his worth, They say, she hath not such a violence, the King- Mine and your eyes may pierce I cannot find her.\"})]\n",
      "[]\n"
     ]
    }
   ],
   "source": [
    "for i in range(5):\n",
    "    print(tool.check(sentences_2[i]))"
   ],
   "metadata": {
    "collapsed": false,
    "ExecuteTime": {
     "end_time": "2023-10-15T21:14:24.240865Z",
     "start_time": "2023-10-15T21:14:20.563119500Z"
    }
   },
   "id": "1a7abc8381ed2717"
  },
  {
   "cell_type": "markdown",
   "source": [
    "Create a metric based on error suggestions per each word on average"
   ],
   "metadata": {
    "collapsed": false
   },
   "id": "3a9e32f56ef56980"
  },
  {
   "cell_type": "markdown",
   "source": [],
   "metadata": {
    "collapsed": false
   },
   "id": "21f2fbb423c10843"
  },
  {
   "cell_type": "code",
   "execution_count": 92,
   "outputs": [],
   "source": [
    "def language_tool_metric(sentence):\n",
    "    count_words = len(sentence.split(\" \"))\n",
    "    count_errors = len(tool.check(sentence))\n",
    "    return count_errors / count_words"
   ],
   "metadata": {
    "collapsed": false,
    "ExecuteTime": {
     "end_time": "2023-10-15T21:14:24.242866300Z",
     "start_time": "2023-10-15T21:14:24.241865400Z"
    }
   },
   "id": "172e7d14b7d564b4"
  },
  {
   "cell_type": "markdown",
   "source": [
    "Evaluate the average metric value on our generated sentences with the Markov chain of state size 1:"
   ],
   "metadata": {
    "collapsed": false
   },
   "id": "5be0b6fd847763fc"
  },
  {
   "cell_type": "code",
   "execution_count": 93,
   "outputs": [
    {
     "name": "stdout",
     "output_type": "stream",
     "text": [
      "On average 0.03919267994104257 mistakes found per word of text\n"
     ]
    }
   ],
   "source": [
    "average_language_tool_metric = np.average([language_tool_metric(sentence) for sentence in sentences_1])\n",
    "print(\"On average\", average_language_tool_metric, \"mistakes found per word of text\")"
   ],
   "metadata": {
    "collapsed": false,
    "ExecuteTime": {
     "end_time": "2023-10-15T21:14:28.834198400Z",
     "start_time": "2023-10-15T21:14:24.244868500Z"
    }
   },
   "id": "3267aca183845db"
  },
  {
   "cell_type": "markdown",
   "source": [
    "Evaluate the average metric value on our generated sentences with the Markov chain of state size 2:"
   ],
   "metadata": {
    "collapsed": false
   },
   "id": "77b65d595f2988e1"
  },
  {
   "cell_type": "code",
   "execution_count": 94,
   "outputs": [
    {
     "name": "stdout",
     "output_type": "stream",
     "text": [
      "On average 0.03314856663202676 mistakes found per word of text\n"
     ]
    }
   ],
   "source": [
    "average_language_tool_metric = np.average([language_tool_metric(sentence) for sentence in sentences_2])\n",
    "print(\"On average\", average_language_tool_metric, \"mistakes found per word of text\")"
   ],
   "metadata": {
    "collapsed": false,
    "ExecuteTime": {
     "end_time": "2023-10-15T21:14:32.085402700Z",
     "start_time": "2023-10-15T21:14:28.828898900Z"
    }
   },
   "id": "84df07a61d0441d7"
  },
  {
   "cell_type": "markdown",
   "source": [
    "On our dataset it unfortunately does not produce stable results, because Shakespeare mostly didn't make spelling mistakes, and also he was using an older version of English."
   ],
   "metadata": {
    "collapsed": false
   },
   "id": "c6725b1ec9db9a6c"
  },
  {
   "cell_type": "markdown",
   "source": [
    "## Other approaches"
   ],
   "metadata": {
    "collapsed": false
   },
   "id": "a6fa754a1dade91e"
  },
  {
   "cell_type": "markdown",
   "source": [
    "Possible approaches to automatically check the quality of the generated texts are using LLMs such as Chat GPT instead of human evaluation. Additionally, we could analyze n-grams with the size more than we have chosen in markov chain parameter and check the content quality not only of phrases. "
   ],
   "metadata": {
    "collapsed": false
   },
   "id": "4eba39d9aabc01ed"
  }
 ],
 "metadata": {
  "kernelspec": {
   "display_name": "Python 3",
   "language": "python",
   "name": "python3"
  },
  "language_info": {
   "codemirror_mode": {
    "name": "ipython",
    "version": 2
   },
   "file_extension": ".py",
   "mimetype": "text/x-python",
   "name": "python",
   "nbconvert_exporter": "python",
   "pygments_lexer": "ipython2",
   "version": "2.7.6"
  }
 },
 "nbformat": 4,
 "nbformat_minor": 5
}
